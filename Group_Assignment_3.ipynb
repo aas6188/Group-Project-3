{
  "nbformat": 4,
  "nbformat_minor": 0,
  "metadata": {
    "colab": {
      "name": "Group-Assignment 3.ipynb",
      "provenance": [],
      "collapsed_sections": [],
      "include_colab_link": true
    },
    "kernelspec": {
      "name": "python3",
      "display_name": "Python 3"
    }
  },
  "cells": [
    {
      "cell_type": "markdown",
      "metadata": {
        "id": "view-in-github",
        "colab_type": "text"
      },
      "source": [
        "<a href=\"https://colab.research.google.com/github/aas6188/Group-Project-3/blob/main/Group_Assignment_3.ipynb\" target=\"_parent\"><img src=\"https://colab.research.google.com/assets/colab-badge.svg\" alt=\"Open In Colab\"/></a>"
      ]
    },
    {
      "cell_type": "markdown",
      "metadata": {
        "id": "sdcln-0k3524"
      },
      "source": [
        "![ER Diagram](https://raw.githubusercontent.com/BlueCoder13/PracticeForClass/master/Images/Copy%20of%20Group-Project%202.jpg)"
      ]
    },
    {
      "cell_type": "code",
      "metadata": {
        "id": "-XV9fcocMCsG",
        "colab": {
          "base_uri": "https://localhost:8080/",
          "height": 67
        },
        "outputId": "159bef98-034a-41a7-9a85-44629319fbd6"
      },
      "source": [
        "%load_ext sql\n",
        "%sql sqlite:///librariesDataBase.db"
      ],
      "execution_count": null,
      "outputs": [
        {
          "output_type": "stream",
          "text": [
            "The sql extension is already loaded. To reload it, use:\n",
            "  %reload_ext sql\n"
          ],
          "name": "stdout"
        },
        {
          "output_type": "execute_result",
          "data": {
            "application/vnd.google.colaboratory.intrinsic+json": {
              "type": "string"
            },
            "text/plain": [
              "'Connected: @librariesDataBase.db'"
            ]
          },
          "metadata": {
            "tags": []
          },
          "execution_count": 8
        }
      ]
    },
    {
      "cell_type": "code",
      "metadata": {
        "id": "xNCIT8IKM93b",
        "colab": {
          "base_uri": "https://localhost:8080/"
        },
        "outputId": "5047c0b1-e2b0-4b7e-8761-674a78e17d66"
      },
      "source": [
        "%%sql  \n",
        "DROP TABLE IF EXISTS People;\n",
        "create table People (CardNumber text PRIMARY KEY, FirstName text, LastName text, Age integer);\n",
        "\n",
        "DROP TABLE IF EXISTS Program;\n",
        "create table Program (ProgramID text PRIMARY KEY, StaffID text, ProgramName text, CardNumber text, Section integer, NumberOfParticipates integer);\n",
        "\n",
        "DROP TABLE IF EXISTS Staff;\n",
        "create table Staff (StaffID text PRIMARY KEY, FirstName text, LastName text, DateHired text);\n",
        "\n",
        "DROP TABLE IF EXISTS Section;\n",
        "create table Section (AreaNumber integer PRIMARY KEY, Volume real, PeopleCapacity integer, Seats integer);\n",
        "\n",
        "DROP TABLE IF EXISTS Books;\n",
        "create table Books (SerialNumber text PRIMARY KEY, Title text, AuthorFirstName text, AuthorLastName text);\n",
        "\n",
        "DROP TABLE IF EXISTS Checkout;\n",
        "create table Checkout (CardNumber text PRIMARY KEY, SerialNumber text, Date text);\n",
        "\n"
      ],
      "execution_count": null,
      "outputs": [
        {
          "output_type": "stream",
          "text": [
            " * sqlite:///librariesDataBase.db\n",
            "Done.\n",
            "Done.\n",
            "Done.\n",
            "Done.\n",
            "Done.\n",
            "Done.\n",
            "Done.\n",
            "Done.\n",
            "Done.\n",
            "Done.\n",
            "Done.\n",
            "Done.\n"
          ],
          "name": "stdout"
        },
        {
          "output_type": "execute_result",
          "data": {
            "text/plain": [
              "[]"
            ]
          },
          "metadata": {
            "tags": []
          },
          "execution_count": 9
        }
      ]
    },
    {
      "cell_type": "code",
      "metadata": {
        "colab": {
          "base_uri": "https://localhost:8080/"
        },
        "id": "m_9GxG5yKDDX",
        "outputId": "398792ae-3a14-4a34-9948-e47b08dd1c17"
      },
      "source": [
        "%%sql\n",
        "insert into People values ('001', 'Troy', 'Yates', 62);\n",
        "insert into People values ('056', 'Heather', 'Graham', 22);\n",
        "insert into People values ('097', 'Elin', 'Sheppard', 35);\n",
        "insert into People values ('011', 'Christian', 'Fhan', 18);\n",
        "insert into People values ('009', 'Jack', 'Liam', 45);\n",
        "insert into People values ('005', 'Lois', 'Haas', 17);\n",
        "insert into People values ('049', 'Betty', 'lese', 37);\n",
        "insert into People values ('073', 'Max', 'Norton', 55);\n",
        "insert into People values ('088', 'Maisy', 'Humphry', 31);\n",
        "insert into People values ('031', 'Donald', 'Craig', 78);\n",
        "insert into People values ('027', 'Jamie', 'Franco', 25);\n",
        "\n",
        "insert into Staff values ('S23', 'Orla', 'Peck', '2012-05-26');\n",
        "insert into Staff values ('S54', 'Karen', 'Santos', '2017-02-28');\n",
        "insert into Staff values ('S01', 'Harry', 'Merriot', '2019-12-15');\n",
        "insert into Staff values ('S69', 'Jay', 'Jenson', '2011-03-29');\n",
        "insert into Staff values ('S12', 'Mark', 'Lamb', '2004-01-27');\n",
        "insert into Staff values ('S07', 'Edith', 'Bass', '2001-06-01');\n",
        "insert into Staff values ('S56', 'Harley', 'McKay', '2020-10-09');\n",
        "insert into Staff values ('S99', 'Nathan', 'Sue', '2009-06-15');\n",
        "insert into Staff values ('S65', 'Micheal', 'Noble', '2000-04-13');\n",
        "insert into Staff values ('S32', 'Caroline', 'Halle', '2003-02-18');\n",
        "\n",
        "insert into Section values (002, 1200, 500, 450);\n",
        "insert into Section values (003, 2300, 580, 500 );\n",
        "insert into Section values (004, 3400, 700, 650);\n",
        "insert into Section values (005, 1150, 675, 300);\n",
        "insert into Section values (006, 2450, 600, 515);\n",
        "\n",
        "insert into Program values ('P1R','S23', 'Summer Reading', '001', 002, 40);\n",
        "insert into Program values ('P2R', 'S54', 'Typing Lab', '056', 003, 20);\n",
        "insert into Program values ('P3R', 'S01', 'Book Club', '097', 004, 100);\n",
        "insert into Program values ('P4R', 'S69', 'Movie Night Club', '011', 005, 230);\n",
        "insert into Program values ('P5R', 'S12', 'Teen Summer Reading','009', 006, 55);\n",
        "\n",
        "insert into Books values ('67893839', 'Harry Potter and the Chamber of Secrets', 'J.K.', 'Rowling');\n",
        "insert into Books values ('72889795', 'The Hate U Give', 'Angie', 'Thomas');\n",
        "insert into Books values ('93889974', 'Start with Why', 'Simon', 'Sinek');\n",
        "insert into Books values ('49553929', 'Homegoing','Yaa', 'Gyasi');\n",
        "insert into Books values ('66357266', 'The Hunger Games', 'Suzanne', 'Collins');\n",
        "\n",
        "insert into Checkout values ('001', '67893839', '2020-05-26');\n",
        "insert into Checkout values ('056', '72889795', '2020-02-28');\n",
        "insert into Checkout values ('097', '93889974', '2019-07-04');\n",
        "insert into Checkout values ('011', '72889795', '2018-10-20');\n",
        "insert into Checkout values ('009', '66357266', '2019-08-31');\n",
        "\n",
        "\n"
      ],
      "execution_count": null,
      "outputs": [
        {
          "output_type": "stream",
          "text": [
            " * sqlite:///librariesDataBase.db\n",
            "1 rows affected.\n",
            "1 rows affected.\n",
            "1 rows affected.\n",
            "1 rows affected.\n",
            "1 rows affected.\n",
            "1 rows affected.\n",
            "1 rows affected.\n",
            "1 rows affected.\n",
            "1 rows affected.\n",
            "1 rows affected.\n",
            "1 rows affected.\n",
            "1 rows affected.\n",
            "1 rows affected.\n",
            "1 rows affected.\n",
            "1 rows affected.\n",
            "1 rows affected.\n",
            "1 rows affected.\n",
            "1 rows affected.\n",
            "1 rows affected.\n",
            "1 rows affected.\n",
            "1 rows affected.\n",
            "1 rows affected.\n",
            "1 rows affected.\n",
            "1 rows affected.\n",
            "1 rows affected.\n",
            "1 rows affected.\n",
            "1 rows affected.\n",
            "1 rows affected.\n",
            "1 rows affected.\n",
            "1 rows affected.\n",
            "1 rows affected.\n",
            "1 rows affected.\n",
            "1 rows affected.\n",
            "1 rows affected.\n",
            "1 rows affected.\n",
            "1 rows affected.\n",
            "1 rows affected.\n",
            "1 rows affected.\n",
            "1 rows affected.\n",
            "1 rows affected.\n",
            "1 rows affected.\n"
          ],
          "name": "stdout"
        },
        {
          "output_type": "execute_result",
          "data": {
            "text/plain": [
              "[]"
            ]
          },
          "metadata": {
            "tags": []
          },
          "execution_count": 10
        }
      ]
    },
    {
      "cell_type": "markdown",
      "metadata": {
        "id": "898uj3imoBHj"
      },
      "source": [
        "Questions"
      ]
    },
    {
      "cell_type": "markdown",
      "metadata": {
        "id": "YJnlYcs_oI1C"
      },
      "source": [
        "1. How many books were checked out by people under 45 years old."
      ]
    },
    {
      "cell_type": "code",
      "metadata": {
        "id": "nTRAqQ05oDew",
        "colab": {
          "base_uri": "https://localhost:8080/",
          "height": 86
        },
        "outputId": "22b637fd-ce7b-45b3-ba04-26901484d7e3"
      },
      "source": [
        "%%sql\n",
        "SELECT count(serialNumber) from Checkout where CardNumber in (select CardNumber from People where Age < 45);\n"
      ],
      "execution_count": null,
      "outputs": [
        {
          "output_type": "stream",
          "text": [
            " * sqlite:///librariesDataBase.db\n",
            "Done.\n"
          ],
          "name": "stdout"
        },
        {
          "output_type": "execute_result",
          "data": {
            "text/html": [
              "<table>\n",
              "    <tr>\n",
              "        <th>count(serialNumber)</th>\n",
              "    </tr>\n",
              "    <tr>\n",
              "        <td>3</td>\n",
              "    </tr>\n",
              "</table>"
            ],
            "text/plain": [
              "[(3,)]"
            ]
          },
          "metadata": {
            "tags": []
          },
          "execution_count": 11
        }
      ]
    },
    {
      "cell_type": "markdown",
      "metadata": {
        "id": "mW0Y-79yoa5l"
      },
      "source": [
        "2. What was the amount of books checked out by people between 2019-01-01 and 2020-01-01"
      ]
    },
    {
      "cell_type": "code",
      "metadata": {
        "id": "KBtdLzkPo1b1",
        "colab": {
          "base_uri": "https://localhost:8080/",
          "height": 86
        },
        "outputId": "f82d397d-8f7d-4c6c-dc60-18d5e031cb83"
      },
      "source": [
        "%%sql\n",
        "SELECT count(SerialNumber) from Checkout where Date between \"2019-01-01\" and \"2020-01-01\";"
      ],
      "execution_count": null,
      "outputs": [
        {
          "output_type": "stream",
          "text": [
            " * sqlite:///librariesDataBase.db\n",
            "Done.\n"
          ],
          "name": "stdout"
        },
        {
          "output_type": "execute_result",
          "data": {
            "text/html": [
              "<table>\n",
              "    <tr>\n",
              "        <th>count(SerialNumber)</th>\n",
              "    </tr>\n",
              "    <tr>\n",
              "        <td>2</td>\n",
              "    </tr>\n",
              "</table>"
            ],
            "text/plain": [
              "[(2,)]"
            ]
          },
          "metadata": {
            "tags": []
          },
          "execution_count": 12
        }
      ]
    },
    {
      "cell_type": "markdown",
      "metadata": {
        "id": "nN4vkCL7o13O"
      },
      "source": [
        "3. What Members of the Library has an E in their First Name."
      ]
    },
    {
      "cell_type": "code",
      "metadata": {
        "id": "oX9NqmzU4ENU",
        "colab": {
          "base_uri": "https://localhost:8080/",
          "height": 140
        },
        "outputId": "6a5141d5-0561-448b-9bd0-0bc05908f0b1"
      },
      "source": [
        "%%sql\n",
        "SELECT FirstName, LastName from People where FirstName like \"%e%\";"
      ],
      "execution_count": null,
      "outputs": [
        {
          "output_type": "stream",
          "text": [
            " * sqlite:///librariesDataBase.db\n",
            "Done.\n"
          ],
          "name": "stdout"
        },
        {
          "output_type": "execute_result",
          "data": {
            "text/html": [
              "<table>\n",
              "    <tr>\n",
              "        <th>FirstName</th>\n",
              "        <th>LastName</th>\n",
              "    </tr>\n",
              "    <tr>\n",
              "        <td>Heather</td>\n",
              "        <td>Graham</td>\n",
              "    </tr>\n",
              "    <tr>\n",
              "        <td>Elin</td>\n",
              "        <td>Sheppard</td>\n",
              "    </tr>\n",
              "    <tr>\n",
              "        <td>Betty</td>\n",
              "        <td>lese</td>\n",
              "    </tr>\n",
              "    <tr>\n",
              "        <td>Jamie</td>\n",
              "        <td>Franco</td>\n",
              "    </tr>\n",
              "</table>"
            ],
            "text/plain": [
              "[('Heather', 'Graham'),\n",
              " ('Elin', 'Sheppard'),\n",
              " ('Betty', 'lese'),\n",
              " ('Jamie', 'Franco')]"
            ]
          },
          "metadata": {
            "tags": []
          },
          "execution_count": 13
        }
      ]
    },
    {
      "cell_type": "markdown",
      "metadata": {
        "id": "lys4yeey4DGx"
      },
      "source": [
        "50 word writeup"
      ]
    },
    {
      "cell_type": "markdown",
      "metadata": {
        "id": "JHYRGrISc8ZK"
      },
      "source": [
        "When we created our Database and Tables, we only decided to do one change. That change was adding an attribute called ProgramName to the Sections table. This change was made because we thought that it would make it easier to know what each program is. These results do add up to my expectations because we made our diagram in First Normal Form, and that matches up well with the SQL input."
      ]
    }
  ]
}